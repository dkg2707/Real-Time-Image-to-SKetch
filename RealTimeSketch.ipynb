{
 "cells": [
  {
   "cell_type": "code",
   "execution_count": 1,
   "metadata": {},
   "outputs": [],
   "source": [
    "import cv2\n",
    "from matplotlib import pyplot as plt\n",
    "import numpy as np"
   ]
  },
  {
   "cell_type": "code",
   "execution_count": 2,
   "metadata": {},
   "outputs": [],
   "source": [
    "def sketch(img):\n",
    "    img_gray = cv2.cvtColor(img,cv2.COLOR_BGR2GRAY)\n",
    "    img_gray_blur = cv2.GaussianBlur(img_gray, (7,7), 0)\n",
    "    img_canny = cv2.Canny(img_gray_blur, 10, 80)\n",
    "    _, mask = img_canny_inverted = cv2.threshold(img_canny, 30, 255, cv2.THRESH_BINARY_INV)\n",
    "    return mask"
   ]
  },
  {
   "cell_type": "code",
   "execution_count": 3,
   "metadata": {},
   "outputs": [],
   "source": [
    "cam = cv2.VideoCapture(0)\n",
    "cv2.destroyAllWindows()\n",
    "\n",
    "while True:\n",
    "    _, img = cam.read()\n",
    "    fromCenter=False\n",
    "    showCrosshair = False\n",
    "    r = cv2.selectROI('Image', img, fromCenter, showCrosshair)\n",
    "    break\n",
    "    \n",
    "while True:\n",
    "    _, img = cam.read()\n",
    "    rect_img = img[int(r[1]):int(r[1]+r[3]),int(r[0]):int(r[0]+r[2])]\n",
    "    sketch_rect = rect_img\n",
    "    sketch_rect = sketch(sketch_rect)\n",
    "    \n",
    "    sketch_rect_rgb = cv2.cvtColor(sketch_rect,cv2.COLOR_GRAY2RGB)\n",
    "    \n",
    "    img[int(r[1]):int(r[1]+r[3]),int(r[0]):int(r[0]+r[2])] = sketch_rect_rgb\n",
    "    \n",
    "    cv2.imshow('Sketch', img)\n",
    "    \n",
    "    if cv2.waitKey(1) == 13:\n",
    "        break\n",
    "        \n",
    "cam.release()\n",
    "cv2.destroyAllWindows()"
   ]
  },
  {
   "cell_type": "code",
   "execution_count": null,
   "metadata": {},
   "outputs": [],
   "source": []
  },
  {
   "cell_type": "code",
   "execution_count": null,
   "metadata": {},
   "outputs": [],
   "source": []
  }
 ],
 "metadata": {
  "kernelspec": {
   "display_name": "Python 3",
   "language": "python",
   "name": "python3"
  },
  "language_info": {
   "codemirror_mode": {
    "name": "ipython",
    "version": 3
   },
   "file_extension": ".py",
   "mimetype": "text/x-python",
   "name": "python",
   "nbconvert_exporter": "python",
   "pygments_lexer": "ipython3",
   "version": "3.7.4"
  }
 },
 "nbformat": 4,
 "nbformat_minor": 2
}
